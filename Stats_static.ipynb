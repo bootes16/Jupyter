{
 "cells": [
  {
   "cell_type": "code",
   "execution_count": 1,
   "metadata": {},
   "outputs": [],
   "source": [
    "import numpy as np\n",
    "import scipy.stats\n",
    "import pandas as pd\n",
    "import matplotlib.pyplot as plt"
   ]
  },
  {
   "cell_type": "code",
   "execution_count": 2,
   "metadata": {},
   "outputs": [],
   "source": [
    "# Use Pandas to import a csv file.\n",
    "# data = pd.read_csv('csvFile.csv', index_col=0)\n",
    "\n",
    "# Or create a Pandas DataFrame\n",
    "dates = pd.date_range('20180801', periods=31)\n",
    "data = pd.DataFrame(np.random.randint(10,100,(31,2)), index=dates, columns=list('AB'))"
   ]
  },
  {
   "cell_type": "code",
   "execution_count": 3,
   "metadata": {},
   "outputs": [
    {
     "data": {
      "text/html": [
       "<div>\n",
       "<style scoped>\n",
       "    .dataframe tbody tr th:only-of-type {\n",
       "        vertical-align: middle;\n",
       "    }\n",
       "\n",
       "    .dataframe tbody tr th {\n",
       "        vertical-align: top;\n",
       "    }\n",
       "\n",
       "    .dataframe thead th {\n",
       "        text-align: right;\n",
       "    }\n",
       "</style>\n",
       "<table border=\"1\" class=\"dataframe\">\n",
       "  <thead>\n",
       "    <tr style=\"text-align: right;\">\n",
       "      <th></th>\n",
       "      <th>index</th>\n",
       "      <th>A</th>\n",
       "      <th>B</th>\n",
       "    </tr>\n",
       "  </thead>\n",
       "  <tbody>\n",
       "    <tr>\n",
       "      <th>0</th>\n",
       "      <td>2018-08-01</td>\n",
       "      <td>50</td>\n",
       "      <td>64</td>\n",
       "    </tr>\n",
       "    <tr>\n",
       "      <th>1</th>\n",
       "      <td>2018-08-02</td>\n",
       "      <td>47</td>\n",
       "      <td>84</td>\n",
       "    </tr>\n",
       "    <tr>\n",
       "      <th>2</th>\n",
       "      <td>2018-08-03</td>\n",
       "      <td>59</td>\n",
       "      <td>34</td>\n",
       "    </tr>\n",
       "    <tr>\n",
       "      <th>3</th>\n",
       "      <td>2018-08-04</td>\n",
       "      <td>50</td>\n",
       "      <td>40</td>\n",
       "    </tr>\n",
       "    <tr>\n",
       "      <th>4</th>\n",
       "      <td>2018-08-05</td>\n",
       "      <td>42</td>\n",
       "      <td>39</td>\n",
       "    </tr>\n",
       "  </tbody>\n",
       "</table>\n",
       "</div>"
      ],
      "text/plain": [
       "       index   A   B\n",
       "0 2018-08-01  50  64\n",
       "1 2018-08-02  47  84\n",
       "2 2018-08-03  59  34\n",
       "3 2018-08-04  50  40\n",
       "4 2018-08-05  42  39"
      ]
     },
     "execution_count": 3,
     "metadata": {},
     "output_type": "execute_result"
    }
   ],
   "source": [
    "data.reset_index().head()"
   ]
  },
  {
   "cell_type": "code",
   "execution_count": 4,
   "metadata": {},
   "outputs": [
    {
     "data": {
      "text/html": [
       "<div>\n",
       "<style scoped>\n",
       "    .dataframe tbody tr th:only-of-type {\n",
       "        vertical-align: middle;\n",
       "    }\n",
       "\n",
       "    .dataframe tbody tr th {\n",
       "        vertical-align: top;\n",
       "    }\n",
       "\n",
       "    .dataframe thead th {\n",
       "        text-align: right;\n",
       "    }\n",
       "</style>\n",
       "<table border=\"1\" class=\"dataframe\">\n",
       "  <thead>\n",
       "    <tr style=\"text-align: right;\">\n",
       "      <th></th>\n",
       "      <th>A</th>\n",
       "      <th>B</th>\n",
       "    </tr>\n",
       "  </thead>\n",
       "  <tbody>\n",
       "    <tr>\n",
       "      <th>count</th>\n",
       "      <td>31.000000</td>\n",
       "      <td>31.000000</td>\n",
       "    </tr>\n",
       "    <tr>\n",
       "      <th>mean</th>\n",
       "      <td>48.516129</td>\n",
       "      <td>54.548387</td>\n",
       "    </tr>\n",
       "    <tr>\n",
       "      <th>std</th>\n",
       "      <td>21.132709</td>\n",
       "      <td>27.937834</td>\n",
       "    </tr>\n",
       "    <tr>\n",
       "      <th>min</th>\n",
       "      <td>10.000000</td>\n",
       "      <td>11.000000</td>\n",
       "    </tr>\n",
       "    <tr>\n",
       "      <th>25%</th>\n",
       "      <td>36.000000</td>\n",
       "      <td>29.500000</td>\n",
       "    </tr>\n",
       "    <tr>\n",
       "      <th>50%</th>\n",
       "      <td>48.000000</td>\n",
       "      <td>57.000000</td>\n",
       "    </tr>\n",
       "    <tr>\n",
       "      <th>75%</th>\n",
       "      <td>63.500000</td>\n",
       "      <td>76.500000</td>\n",
       "    </tr>\n",
       "    <tr>\n",
       "      <th>max</th>\n",
       "      <td>80.000000</td>\n",
       "      <td>98.000000</td>\n",
       "    </tr>\n",
       "  </tbody>\n",
       "</table>\n",
       "</div>"
      ],
      "text/plain": [
       "               A          B\n",
       "count  31.000000  31.000000\n",
       "mean   48.516129  54.548387\n",
       "std    21.132709  27.937834\n",
       "min    10.000000  11.000000\n",
       "25%    36.000000  29.500000\n",
       "50%    48.000000  57.000000\n",
       "75%    63.500000  76.500000\n",
       "max    80.000000  98.000000"
      ]
     },
     "execution_count": 4,
     "metadata": {},
     "output_type": "execute_result"
    }
   ],
   "source": [
    "data.describe()"
   ]
  },
  {
   "cell_type": "code",
   "execution_count": 43,
   "metadata": {},
   "outputs": [
    {
     "data": {
      "text/plain": [
       "<matplotlib.axes._subplots.AxesSubplot at 0x1162fa160>"
      ]
     },
     "execution_count": 43,
     "metadata": {},
     "output_type": "execute_result"
    },
    {
     "data": {
      "image/png": "[encoded data removed]",
      "text/plain": [
       "<Figure size 432x288 with 1 Axes>"
      ]
     },
     "metadata": {},
     "output_type": "display_data"
    }
   ],
   "source": [
    "# data['A'].reset_index().plot.bar()\n",
    "data['A'].plot()"
   ]
  },
  {
   "cell_type": "markdown",
   "metadata": {},
   "source": [
    "Confidence Interval for the Repeated Measures t-Test\n",
    "(source: Statistics in a Nutshell pp166)\n",
    "\n",
    "$CI_{1-\\alpha} = \\bar{x} \\pm (t_{\\frac{\\alpha}{2}.df})(\\frac{s_d}{\\sqrt{n}})$\n",
    "\n",
    "where:\n",
    "\n",
    "$\\alpha$ is the probability of exceeding the critical value (1 - 0.95 for 95% CI.)\n",
    "\n",
    "$CI_{1-\\alpha}$ is the confidence interval (95% confidence interval for an $\\alpha$ of 0.05.)\n",
    "\n",
    "$\\bar{x}$ is the sample mean.\n",
    "\n",
    "$t_{\\frac{\\alpha}{2}.df}$ is the upper critical t-value for the degrees of freedom ($df$) (halve the $\\alpha$ level if using a single-tailed table. i.e. for 95%CI, $\\alpha = 0.05$. for a single tailed t-value table, use $\\alpha = 0.025$ otherwise for a two-tailed t-value table use $\\alpha = 0.05$.)\n",
    "\n",
    "$s_d$ is the standard deviation of the sample.\n",
    "\n",
    "$n$ is the number of samples."
   ]
  },
  {
   "cell_type": "code",
   "execution_count": 44,
   "metadata": {},
   "outputs": [
    {
     "name": "stdout",
     "output_type": "stream",
     "text": [
      "mean: 55 +/- 10 [45, 64]\n"
     ]
    }
   ],
   "source": [
    "xbar = data['A'].mean()\n",
    "n = data['A'].count()\n",
    "t = 2.042 # t-value for 30 df and 0.05 two-tailed.\n",
    "stdev = data['A'].std()\n",
    "pm_int = t*stdev/np.sqrt(n)\n",
    "xbar, n, t, stdev, pm_int\n",
    "# 95% Confidence Interval\n",
    "#print(xbar, \"+/-\", pm_int, \"(\", xbar - pm_int, \",\", xbar + pm_int, \")\")\n",
    "print(\"mean: {:.0f} +/- {:.0f} [{:.0f}, {:.0f}]\".format(xbar,pm_int,xbar - pm_int,xbar + pm_int))"
   ]
  }
 ],
 "metadata": {
  "kernelspec": {
   "display_name": "Python 3",
   "language": "python",
   "name": "python3"
  },
  "language_info": {
   "codemirror_mode": {
    "name": "ipython",
    "version": 3
   },
   "file_extension": ".py",
   "mimetype": "text/x-python",
   "name": "python",
   "nbconvert_exporter": "python",
   "pygments_lexer": "ipython3",
   "version": "3.6.5"
  }
 },
 "nbformat": 4,
 "nbformat_minor": 2
}
